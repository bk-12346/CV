{
  "nbformat": 4,
  "nbformat_minor": 0,
  "metadata": {
    "colab": {
      "provenance": [],
      "authorship_tag": "ABX9TyN1tKh2uTJDfjzpOJLeUvXM",
      "include_colab_link": true
    },
    "kernelspec": {
      "name": "python3",
      "display_name": "Python 3"
    },
    "language_info": {
      "name": "python"
    }
  },
  "cells": [
    {
      "cell_type": "markdown",
      "metadata": {
        "id": "view-in-github",
        "colab_type": "text"
      },
      "source": [
        "<a href=\"https://colab.research.google.com/github/bk-12346/CV/blob/main/Bag_of_visual_words.ipynb\" target=\"_parent\"><img src=\"https://colab.research.google.com/assets/colab-badge.svg\" alt=\"Open In Colab\"/></a>"
      ]
    },
    {
      "cell_type": "code",
      "execution_count": 23,
      "metadata": {
        "colab": {
          "base_uri": "https://localhost:8080/"
        },
        "id": "1VchkjQTgp-q",
        "outputId": "cb8cf058-a55b-4325-c770-8cdab8a51547"
      },
      "outputs": [
        {
          "output_type": "stream",
          "name": "stdout",
          "text": [
            "/usr/local/lib/python3.9/dist-packages/gdown/parse_url.py:35: UserWarning: You specified a Google Drive link that is not the correct link to download a file. You might want to try `--fuzzy` option or the following url: https://drive.google.com/uc?id=None\n",
            "  warnings.warn(\n",
            "Downloading...\n",
            "From: https://drive.google.com/drive/u/1/folders/1WtgN1akdxNsAIBQrO38vqKvzQh0mQ-OL\n",
            "To: /content/1WtgN1akdxNsAIBQrO38vqKvzQh0mQ-OL\n",
            "993kB [00:00, 49.1MB/s]\n",
            "Archive:  /content/Objects_Dataset_Images-20230312T154318Z-001.zip\n",
            "replace Objects_Dataset_Images/train/Soccer_Ball/image_0014.jpg? [y]es, [n]o, [A]ll, [N]one, [r]ename: n\n",
            "replace Objects_Dataset_Images/test/motorbike/image_0030.jpg? [y]es, [n]o, [A]ll, [N]one, [r]ename: n\n",
            "replace Objects_Dataset_Images/train/motorbike/image_0015.jpg? [y]es, [n]o, [A]ll, [N]one, [r]ename: n\n",
            "replace Objects_Dataset_Images/train/motorbike/image_0012.jpg? [y]es, [n]o, [A]ll, [N]one, [r]ename: A\n",
            "  inflating: Objects_Dataset_Images/train/motorbike/image_0012.jpg  \n",
            "  inflating: Objects_Dataset_Images/train/motorbike/image_0016.jpg  \n",
            "  inflating: Objects_Dataset_Images/train/motorbike/image_0010.jpg  \n",
            "  inflating: Objects_Dataset_Images/train/motorbike/image_0001.jpg  \n",
            "  inflating: Objects_Dataset_Images/train/Soccer_Ball/image_0022.jpg  \n",
            "  inflating: Objects_Dataset_Images/train/motorbike/image_0003.jpg  \n",
            "  inflating: Objects_Dataset_Images/train/Soccer_Ball/image_0018.jpg  \n",
            "  inflating: Objects_Dataset_Images/train/Soccer_Ball/image_0015.jpg  \n",
            "  inflating: Objects_Dataset_Images/train/motorbike/image_0013.jpg  \n",
            "  inflating: Objects_Dataset_Images/train/motorbike/image_0009.jpg  \n",
            "  inflating: Objects_Dataset_Images/train/Soccer_Ball/image_0021.jpg  \n",
            "  inflating: Objects_Dataset_Images/train/motorbike/image_0011.jpg  \n",
            "  inflating: Objects_Dataset_Images/train/Soccer_Ball/image_0028.jpg  \n",
            "  inflating: Objects_Dataset_Images/train/Soccer_Ball/image_0027.jpg  \n",
            "  inflating: Objects_Dataset_Images/train/motorbike/image_0008.jpg  \n",
            "  inflating: Objects_Dataset_Images/test/motorbike/image_0044.jpg  \n",
            "  inflating: Objects_Dataset_Images/train/Soccer_Ball/image_0011.jpg  \n",
            "  inflating: Objects_Dataset_Images/train/Soccer_Ball/image_0025.jpg  \n",
            "  inflating: Objects_Dataset_Images/train/Soccer_Ball/image_0016.jpg  \n",
            "  inflating: Objects_Dataset_Images/train/motorbike/image_0004.jpg  \n",
            "  inflating: Objects_Dataset_Images/train/Soccer_Ball/image_0029.jpg  \n",
            "  inflating: Objects_Dataset_Images/train/Soccer_Ball/image_0024.jpg  \n",
            "  inflating: Objects_Dataset_Images/test/dollar_bill/image_0040.jpg  \n",
            "  inflating: Objects_Dataset_Images/train/motorbike/image_0002.jpg  \n",
            "  inflating: Objects_Dataset_Images/train/dollar_bill/image_0018.jpg  \n",
            "  inflating: Objects_Dataset_Images/train/motorbike/image_0007.jpg  \n",
            "  inflating: Objects_Dataset_Images/train/Soccer_Ball/image_0012.jpg  \n",
            "  inflating: Objects_Dataset_Images/train/dollar_bill/image_0001.jpg  \n",
            "  inflating: Objects_Dataset_Images/train/dollar_bill/image_0002.jpg  \n",
            "  inflating: Objects_Dataset_Images/train/dollar_bill/image_0007.jpg  \n",
            "  inflating: Objects_Dataset_Images/train/Soccer_Ball/image_0013.jpg  \n",
            "  inflating: Objects_Dataset_Images/train/dollar_bill/image_0016.jpg  \n",
            "  inflating: Objects_Dataset_Images/train/dollar_bill/image_0003.jpg  \n",
            "  inflating: Objects_Dataset_Images/train/motorbike/image_0014.jpg  \n",
            "  inflating: Objects_Dataset_Images/test/Soccer_Ball/image_0032.jpg  \n",
            "  inflating: Objects_Dataset_Images/test/dollar_bill/image_0048.jpg  \n",
            "  inflating: Objects_Dataset_Images/train/dollar_bill/image_0009.jpg  \n",
            "  inflating: Objects_Dataset_Images/test/Soccer_Ball/image_0046.jpg  \n",
            "  inflating: Objects_Dataset_Images/train/dollar_bill/image_0013.jpg  \n",
            "  inflating: Objects_Dataset_Images/train/dollar_bill/image_0008.jpg  \n",
            "  inflating: Objects_Dataset_Images/train/dollar_bill/image_0010.jpg  \n",
            "  inflating: Objects_Dataset_Images/train/dollar_bill/image_0015.jpg  \n",
            "  inflating: Objects_Dataset_Images/train/dollar_bill/image_0014.jpg  \n",
            "  inflating: Objects_Dataset_Images/train/accordion/image_0013.jpg  \n",
            "  inflating: Objects_Dataset_Images/train/accordion/image_0014.jpg  \n",
            "  inflating: Objects_Dataset_Images/test/accordian/image_0026.jpg  \n",
            "  inflating: Objects_Dataset_Images/train/dollar_bill/image_0011.jpg  \n",
            "  inflating: Objects_Dataset_Images/train/accordion/image_0010.jpg  \n",
            "  inflating: Objects_Dataset_Images/train/accordion/image_0003.jpg  \n",
            "  inflating: Objects_Dataset_Images/train/accordion/image_0009.jpg  \n",
            "  inflating: Objects_Dataset_Images/test/accordian/image_0023.jpg  \n",
            "  inflating: Objects_Dataset_Images/train/accordion/image_0021.jpg  \n",
            "  inflating: Objects_Dataset_Images/train/accordion/image_0011.jpg  \n",
            "  inflating: Objects_Dataset_Images/train/accordion/image_0018.jpg  \n",
            "  inflating: Objects_Dataset_Images/train/accordion/image_0001.jpg  \n",
            "  inflating: Objects_Dataset_Images/train/accordion/image_0002.jpg  \n",
            "  inflating: Objects_Dataset_Images/train/accordion/image_0008.jpg  \n",
            "  inflating: Objects_Dataset_Images/train/accordion/image_0012.jpg  \n",
            "  inflating: Objects_Dataset_Images/train/accordion/image_0007.jpg  \n",
            "  inflating: Objects_Dataset_Images/train/accordion/image_0016.jpg  \n",
            "  inflating: Objects_Dataset_Images/train/dollar_bill/image_0012.jpg  \n"
          ]
        }
      ],
      "source": [
        "#accessing the datset through Google Drive\n",
        "!gdown https://drive.google.com/drive/u/1/folders/1WtgN1akdxNsAIBQrO38vqKvzQh0mQ-OL\n",
        "!unzip /content/Objects_Dataset_Images-20230312T154318Z-001.zip;\n",
        "\n"
      ]
    },
    {
      "cell_type": "code",
      "source": [
        "import numpy as np\n",
        "import cv2\n",
        "import os\n",
        "from scipy import ndimage\n",
        "from scipy.spatial import distance\n",
        "from sklearn.cluster import KMeans\n",
        "import math\n",
        "from tqdm import tqdm\n",
        "import pickle\n",
        "\n",
        "# takes all images and convert them to grayscale. It also returns a dictionary that holds all images according to category. \n",
        "def load_images_from_folder(folder):\n",
        "    images = {}\n",
        "    for filename in os.listdir(folder):\n",
        "        category = []\n",
        "        path = folder + \"/\" + filename\n",
        "        for accordian in os.listdir(path):\n",
        "            img = cv2.imread(path + \"/\" + accordian,0)\n",
        "            #img = cv2.cvtColor(img, cv2.COLOR_BGR2GRAY)\n",
        "            if img is not None:\n",
        "                category.append(img)\n",
        "        images[filename] = category\n",
        "    return images\n",
        "\n",
        "images = load_images_from_folder('Objects_Dataset_Images/train')  # take all images category by category \n",
        "test = load_images_from_folder(\"Objects_Dataset_Images/test\") # take test images\n"
      ],
      "metadata": {
        "id": "q2X3FofTrLPg"
      },
      "execution_count": 82,
      "outputs": []
    },
    {
      "cell_type": "code",
      "source": [
        "#SIFT\n",
        "def sift_features(images):\n",
        "    sift_vectors = {}\n",
        "    descriptor_list = []\n",
        "    sift = cv2.xfeatures2d.SIFT_create()\n",
        "    for key,value in images.items():\n",
        "        features = []\n",
        "        for img in value:\n",
        "            kp, des = sift.detectAndCompute(img,None)\n",
        "           \n",
        "            descriptor_list.extend(des)\n",
        "            features.append(des)\n",
        "        sift_vectors[key] = features\n",
        "    return [descriptor_list, sift_vectors]\n",
        "\n",
        "sifts = sift_features(images) \n",
        "# Takes the descriptor list which is unordered one\n",
        "descriptor_list = sifts[0] \n",
        "# Takes the sift features that is seperated class by class for train data\n",
        "all_bovw_feature = sifts[1] \n",
        "# Takes the sift features that is seperated class by class for test data\n",
        "test_bovw_feature = sift_features(test)[1] "
      ],
      "metadata": {
        "id": "f0zZ-MrwxqZm"
      },
      "execution_count": 62,
      "outputs": []
    },
    {
      "cell_type": "code",
      "source": [
        "def kmeans(k, descriptor_list):\n",
        "    kmeans = KMeans(n_clusters = k, n_init=10)\n",
        "    kmeans.fit(descriptor_list)\n",
        "    visual_words = kmeans.cluster_centers_ \n",
        "    return visual_words\n",
        "    \n",
        "# Takes the central points which is visual words    \n",
        "visual_words = kmeans(150, descriptor_list) "
      ],
      "metadata": {
        "id": "X6wAGYp2ymaY"
      },
      "execution_count": 32,
      "outputs": []
    },
    {
      "cell_type": "code",
      "source": [
        "  def find_index(image, center):\n",
        "    count = 0\n",
        "    ind = 0\n",
        "    for i in range(len(center)):\n",
        "        if(i == 0):\n",
        "           count = distance.euclidean(image, center[i]) \n",
        "           #count = L1_dist(image, center[i])\n",
        "        else:\n",
        "            dist = distance.euclidean(image, center[i]) \n",
        "            #dist = L1_dist(image, center[i])\n",
        "            if(dist < count):\n",
        "                ind = i\n",
        "                count = dist\n",
        "    return ind\n",
        "\n",
        "def image_class(all_bovw, centers):\n",
        "    dict_feature = {}\n",
        "    for key,value in all_bovw.items():\n",
        "        category = []\n",
        "        for img in value:\n",
        "            histogram = np.zeros(len(centers))\n",
        "            for each_feature in img:\n",
        "                ind = find_index(each_feature, centers)\n",
        "                histogram[ind] += 1\n",
        "            category.append(histogram)\n",
        "        dict_feature[key] = category\n",
        "    return dict_feature\n",
        "    "
      ],
      "metadata": {
        "id": "USDF9QF-zDja"
      },
      "execution_count": 65,
      "outputs": []
    },
    {
      "cell_type": "code",
      "source": [
        "from matplotlib import pyplot as plt\n",
        "# Creates histograms for train data    \n",
        "bow_train = image_class(all_bovw_feature, visual_words) \n",
        "plt.hist(bow_train, bins=10)\n",
        "plt.show()\n",
        "# Creates histograms for test data\n",
        "bow_test = image_class(test_bovw_feature, visual_words) \n",
        "plt.hist(bow_test, bins=10)\n",
        "plt.show()"
      ],
      "metadata": {
        "colab": {
          "base_uri": "https://localhost:8080/",
          "height": 515
        },
        "id": "XNZtuqdXzeYl",
        "outputId": "dd89a031-219e-4951-c34c-3ca75399ec0f"
      },
      "execution_count": 80,
      "outputs": [
        {
          "output_type": "display_data",
          "data": {
            "text/plain": [
              "<Figure size 432x288 with 1 Axes>"
            ],
            "image/png": "[encoded data removed]"
          },
          "metadata": {
            "needs_background": "light"
          }
        },
        {
          "output_type": "display_data",
          "data": {
            "text/plain": [
              "<Figure size 432x288 with 1 Axes>"
            ],
            "image/png": "[encoded data removed]"
          },
          "metadata": {
            "needs_background": "light"
          }
        }
      ]
    },
    {
      "cell_type": "code",
      "source": [
        "def knn(images, tests):\n",
        "    num_test = 0\n",
        "    correct_predict = 0\n",
        "    class_based = {}\n",
        "    \n",
        "    for test_key, test_val in tests.items():\n",
        "        class_based[test_key] = [0, 0] # [correct, all]\n",
        "        for testing in test_val:\n",
        "            predict_start = 0\n",
        "            #print(test_key)\n",
        "            minimum = 0\n",
        "            key = \"a\" #predicted\n",
        "            for train_key, train_val in images.items():\n",
        "                for train in train_val:\n",
        "                    if(predict_start == 0):\n",
        "                        minimum = distance.euclidean(testing, train)\n",
        "                        #minimum = L1_dist(tst,train)\n",
        "                        key = train_key\n",
        "                        predict_start += 1\n",
        "                    else:\n",
        "                        dist = distance.euclidean(testing, train)\n",
        "                        #dist = L1_dist(tst,train)\n",
        "                        if(dist < minimum):\n",
        "                            minimum = dist\n",
        "                            key = train_key\n",
        "            \n",
        "            if(test_key == key):\n",
        "                correct_predict += 1\n",
        "                class_based[test_key][0] += 1\n",
        "            num_test += 1\n",
        "            class_based[test_key][1] += 1\n",
        "            #print(minimum)\n",
        "    return [num_test, correct_predict, class_based]\n",
        "    \n",
        "# Call the knn function    \n",
        "results_bowl = knn(bow_train, bow_test) \n",
        "\n"
      ],
      "metadata": {
        "id": "EWY_GopbZdX2"
      },
      "execution_count": 91,
      "outputs": []
    },
    {
      "cell_type": "code",
      "source": [
        "def accuracy(results):\n",
        "    avg_accuracy = (results[1] / results[0]) * 100\n",
        "    print(\"Average accuracy: %\" + str(avg_accuracy))\n",
        "    print(\"\\nClass based accuracies: \\n\")\n",
        "    for key,value in results[2].items():\n",
        "        acc = (value[0] / value[1]) * 100\n",
        "        print(key + \" : %\" + str(acc))\n",
        "        \n",
        "# Calculates the accuracies      \n",
        "accuracy(results_bowl) "
      ],
      "metadata": {
        "colab": {
          "base_uri": "https://localhost:8080/"
        },
        "id": "5ZBqr7I6bvDQ",
        "outputId": "2dee292d-642c-4acc-d3d7-2cf8cf64c3b9"
      },
      "execution_count": 92,
      "outputs": [
        {
          "output_type": "stream",
          "name": "stdout",
          "text": [
            "Average accuracy: %75.0\n",
            "\n",
            "Class based accuracies: \n",
            "\n",
            "accordian : %0.0\n",
            "dollar_bill : %100.0\n",
            "motorbike : %100.0\n",
            "Soccer_Ball : %100.0\n"
          ]
        }
      ]
    }
  ]
}